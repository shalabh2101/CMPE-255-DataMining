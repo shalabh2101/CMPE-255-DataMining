{
  "nbformat": 4,
  "nbformat_minor": 0,
  "metadata": {
    "colab": {
      "name": "Data  Mining Preprocessing cleaning.ipynb",
      "provenance": [],
      "collapsed_sections": [],
      "toc_visible": true
    },
    "kernelspec": {
      "name": "python3",
      "display_name": "Python 3"
    }
  },
  "cells": [
    {
      "cell_type": "code",
      "metadata": {
        "id": "ESJU8_6jb1ch",
        "colab_type": "code",
        "colab": {}
      },
      "source": [
        "import numpy as np\n",
        "import pandas as pd\n",
        "import matplotlib.pyplot as plt"
      ],
      "execution_count": 0,
      "outputs": []
    },
    {
      "cell_type": "code",
      "metadata": {
        "id": "AYU6uk4TcxFh",
        "colab_type": "code",
        "colab": {
          "base_uri": "https://localhost:8080/",
          "height": 289
        },
        "outputId": "7965432f-905d-4de5-bb87-b0f9069932ca"
      },
      "source": [
        "#Displays Other language characters correctly if exists\n",
        "encode_type = 'maccentraleurope'  \n",
        "\n",
        "journals = pd.read_csv(\"journals_out.csv\", encoding = encode_type)\n",
        "\n",
        "journals.head()"
      ],
      "execution_count": 2,
      "outputs": [
        {
          "output_type": "execute_result",
          "data": {
            "text/html": [
              "<div>\n",
              "<style scoped>\n",
              "    .dataframe tbody tr th:only-of-type {\n",
              "        vertical-align: middle;\n",
              "    }\n",
              "\n",
              "    .dataframe tbody tr th {\n",
              "        vertical-align: top;\n",
              "    }\n",
              "\n",
              "    .dataframe thead th {\n",
              "        text-align: right;\n",
              "    }\n",
              "</style>\n",
              "<table border=\"1\" class=\"dataframe\">\n",
              "  <thead>\n",
              "    <tr style=\"text-align: right;\">\n",
              "      <th></th>\n",
              "      <th>issn</th>\n",
              "      <th>journal_name</th>\n",
              "      <th>pub_name</th>\n",
              "      <th>is_hybrid</th>\n",
              "      <th>category</th>\n",
              "      <th>url</th>\n",
              "    </tr>\n",
              "  </thead>\n",
              "  <tbody>\n",
              "    <tr>\n",
              "      <th>0</th>\n",
              "      <td>1654-9880</td>\n",
              "      <td>Global Health Action</td>\n",
              "      <td>Co-Action Publishing</td>\n",
              "      <td>0.0</td>\n",
              "      <td>Medicine</td>\n",
              "      <td>NaN</td>\n",
              "    </tr>\n",
              "    <tr>\n",
              "      <th>1</th>\n",
              "      <td>2278-9480</td>\n",
              "      <td>International Journal of Applied Research &amp; St...</td>\n",
              "      <td>NaN</td>\n",
              "      <td>0.0</td>\n",
              "      <td>NaN</td>\n",
              "      <td>NaN</td>\n",
              "    </tr>\n",
              "    <tr>\n",
              "      <th>2</th>\n",
              "      <td>1980-5918</td>\n",
              "      <td>Fisioterapia Em Movimento</td>\n",
              "      <td>PontifÔŅĹcia Universidade CatÔŅĹlica do ParanÔŅĹ</td>\n",
              "      <td>0.0</td>\n",
              "      <td>Medicine</td>\n",
              "      <td>http://www.pucpr.br/revfisio</td>\n",
              "    </tr>\n",
              "    <tr>\n",
              "      <th>3</th>\n",
              "      <td>1121-760X</td>\n",
              "      <td>European Journal of Histochemistry</td>\n",
              "      <td>NaN</td>\n",
              "      <td>0.0</td>\n",
              "      <td>NaN</td>\n",
              "      <td>NaN</td>\n",
              "    </tr>\n",
              "    <tr>\n",
              "      <th>4</th>\n",
              "      <td>2319-5754</td>\n",
              "      <td>Species</td>\n",
              "      <td>Discovery Publication</td>\n",
              "      <td>0.0</td>\n",
              "      <td>NaN</td>\n",
              "      <td>NaN</td>\n",
              "    </tr>\n",
              "  </tbody>\n",
              "</table>\n",
              "</div>"
            ],
            "text/plain": [
              "        issn  ...                           url\n",
              "0  1654-9880  ...                           NaN\n",
              "1  2278-9480  ...                           NaN\n",
              "2  1980-5918  ...  http://www.pucpr.br/revfisio\n",
              "3  1121-760X  ...                           NaN\n",
              "4  2319-5754  ...                           NaN\n",
              "\n",
              "[5 rows x 6 columns]"
            ]
          },
          "metadata": {
            "tags": []
          },
          "execution_count": 2
        }
      ]
    },
    {
      "cell_type": "code",
      "metadata": {
        "id": "KYz-DSw9dKXg",
        "colab_type": "code",
        "colab": {
          "base_uri": "https://localhost:8080/",
          "height": 34
        },
        "outputId": "ea68c5bf-de5d-42cb-eaef-1f7164b1f649"
      },
      "source": [
        "journals.shape\n"
      ],
      "execution_count": 3,
      "outputs": [
        {
          "output_type": "execute_result",
          "data": {
            "text/plain": [
              "(105496, 6)"
            ]
          },
          "metadata": {
            "tags": []
          },
          "execution_count": 3
        }
      ]
    },
    {
      "cell_type": "code",
      "metadata": {
        "id": "-0Tvahu8dUhO",
        "colab_type": "code",
        "colab": {
          "base_uri": "https://localhost:8080/",
          "height": 204
        },
        "outputId": "b9418abc-e1a2-47a3-e608-ca095da6276a"
      },
      "source": [
        "journals.info()"
      ],
      "execution_count": 4,
      "outputs": [
        {
          "output_type": "stream",
          "text": [
            "<class 'pandas.core.frame.DataFrame'>\n",
            "RangeIndex: 105496 entries, 0 to 105495\n",
            "Data columns (total 6 columns):\n",
            "issn            105492 non-null object\n",
            "journal_name    105492 non-null object\n",
            "pub_name        93631 non-null object\n",
            "is_hybrid       105496 non-null float64\n",
            "category        54743 non-null object\n",
            "url             51095 non-null object\n",
            "dtypes: float64(1), object(5)\n",
            "memory usage: 4.8+ MB\n"
          ],
          "name": "stdout"
        }
      ]
    },
    {
      "cell_type": "code",
      "metadata": {
        "id": "2sh2r-W2dhjI",
        "colab_type": "code",
        "colab": {
          "base_uri": "https://localhost:8080/",
          "height": 136
        },
        "outputId": "16d844e3-2bfb-4e9e-f439-7e702ceadc2b"
      },
      "source": [
        "# Counting number of null values in each columns\n",
        "journals.isnull().sum()"
      ],
      "execution_count": 5,
      "outputs": [
        {
          "output_type": "execute_result",
          "data": {
            "text/plain": [
              "issn                4\n",
              "journal_name        4\n",
              "pub_name        11865\n",
              "is_hybrid           0\n",
              "category        50753\n",
              "url             54401\n",
              "dtype: int64"
            ]
          },
          "metadata": {
            "tags": []
          },
          "execution_count": 5
        }
      ]
    },
    {
      "cell_type": "markdown",
      "metadata": {
        "id": "LAi2kEUPd-W6",
        "colab_type": "text"
      },
      "source": [
        "For 2 columns theres are 50% values are missing . But it is still early to decide whether to drop the columns or replace them with some values. Lets do more analysis ."
      ]
    },
    {
      "cell_type": "code",
      "metadata": {
        "id": "dq1-FX90eQu-",
        "colab_type": "code",
        "colab": {
          "base_uri": "https://localhost:8080/",
          "height": 173
        },
        "outputId": "34b3d29d-1ff6-45de-d348-9f821df60647"
      },
      "source": [
        "#There are four rows for which the issn value is null\n",
        "journals.loc[journals['issn'].isnull()]"
      ],
      "execution_count": 6,
      "outputs": [
        {
          "output_type": "execute_result",
          "data": {
            "text/html": [
              "<div>\n",
              "<style scoped>\n",
              "    .dataframe tbody tr th:only-of-type {\n",
              "        vertical-align: middle;\n",
              "    }\n",
              "\n",
              "    .dataframe tbody tr th {\n",
              "        vertical-align: top;\n",
              "    }\n",
              "\n",
              "    .dataframe thead th {\n",
              "        text-align: right;\n",
              "    }\n",
              "</style>\n",
              "<table border=\"1\" class=\"dataframe\">\n",
              "  <thead>\n",
              "    <tr style=\"text-align: right;\">\n",
              "      <th></th>\n",
              "      <th>issn</th>\n",
              "      <th>journal_name</th>\n",
              "      <th>pub_name</th>\n",
              "      <th>is_hybrid</th>\n",
              "      <th>category</th>\n",
              "      <th>url</th>\n",
              "    </tr>\n",
              "  </thead>\n",
              "  <tbody>\n",
              "    <tr>\n",
              "      <th>3706</th>\n",
              "      <td>NaN</td>\n",
              "      <td>NaN</td>\n",
              "      <td>NaN</td>\n",
              "      <td>10.0</td>\n",
              "      <td>NaN</td>\n",
              "      <td>NaN</td>\n",
              "    </tr>\n",
              "    <tr>\n",
              "      <th>46971</th>\n",
              "      <td>NaN</td>\n",
              "      <td>NaN</td>\n",
              "      <td>NaN</td>\n",
              "      <td>10.0</td>\n",
              "      <td>NaN</td>\n",
              "      <td>NaN</td>\n",
              "    </tr>\n",
              "    <tr>\n",
              "      <th>82463</th>\n",
              "      <td>NaN</td>\n",
              "      <td>NaN</td>\n",
              "      <td>NaN</td>\n",
              "      <td>10.0</td>\n",
              "      <td>NaN</td>\n",
              "      <td>NaN</td>\n",
              "    </tr>\n",
              "    <tr>\n",
              "      <th>82957</th>\n",
              "      <td>NaN</td>\n",
              "      <td>NaN</td>\n",
              "      <td>NaN</td>\n",
              "      <td>10.0</td>\n",
              "      <td>NaN</td>\n",
              "      <td>NaN</td>\n",
              "    </tr>\n",
              "  </tbody>\n",
              "</table>\n",
              "</div>"
            ],
            "text/plain": [
              "      issn journal_name pub_name  is_hybrid category  url\n",
              "3706   NaN          NaN      NaN       10.0      NaN  NaN\n",
              "46971  NaN          NaN      NaN       10.0      NaN  NaN\n",
              "82463  NaN          NaN      NaN       10.0      NaN  NaN\n",
              "82957  NaN          NaN      NaN       10.0      NaN  NaN"
            ]
          },
          "metadata": {
            "tags": []
          },
          "execution_count": 6
        }
      ]
    },
    {
      "cell_type": "markdown",
      "metadata": {
        "id": "tIPDfYp4e22t",
        "colab_type": "text"
      },
      "source": [
        "Dropping the 4 rows"
      ]
    },
    {
      "cell_type": "code",
      "metadata": {
        "id": "KTTrNDWuer1S",
        "colab_type": "code",
        "colab": {
          "base_uri": "https://localhost:8080/",
          "height": 153
        },
        "outputId": "aabaa942-8abb-45c0-e1f8-4d6699e3d2e3"
      },
      "source": [
        "rows_to_drop = journals.loc[journals['issn'].isnull()].index\n",
        "print(\"Row indices to drop: \" , rows_to_drop)\n",
        "\n",
        "journals.drop(rows_to_drop, inplace = True)\n",
        "\n",
        "journals.isnull().sum()"
      ],
      "execution_count": 7,
      "outputs": [
        {
          "output_type": "stream",
          "text": [
            "Row indices to drop:  Int64Index([3706, 46971, 82463, 82957], dtype='int64')\n"
          ],
          "name": "stdout"
        },
        {
          "output_type": "execute_result",
          "data": {
            "text/plain": [
              "issn                0\n",
              "journal_name        0\n",
              "pub_name        11861\n",
              "is_hybrid           0\n",
              "category        50749\n",
              "url             54397\n",
              "dtype: int64"
            ]
          },
          "metadata": {
            "tags": []
          },
          "execution_count": 7
        }
      ]
    },
    {
      "cell_type": "code",
      "metadata": {
        "id": "N5ZjUXgzfyHW",
        "colab_type": "code",
        "colab": {
          "base_uri": "https://localhost:8080/",
          "height": 935
        },
        "outputId": "cfb27328-1fc8-44f0-aa27-ad9a5f36dcc5"
      },
      "source": [
        "#Checking journal categories\n",
        "print(journals.category.unique())\n",
        "\n",
        "print(\"-----------\")\n",
        "\n",
        "unique_categories_previous = len(journals.category.unique())\n",
        "\n",
        "#Checking unique cateogories\n",
        "print(\"Unique Categories :\" , unique_categories_previous)"
      ],
      "execution_count": 8,
      "outputs": [
        {
          "output_type": "stream",
          "text": [
            "['Medicine' nan 'Science' 'Education' 'Law' 'Agriculture'\n",
            " 'Social Sciences' 'General Works' 'Geography. Anthropology. Recreation'\n",
            " 'History (General) and history of Europe' 'Technology' 'Fine Arts'\n",
            " 'Political science' 'Language and Literature'\n",
            " 'Philosophy. Psychology. Religion' 'Auxiliary sciences of history'\n",
            " 'Veterinary' 'History America' 'STRUCTURAL ENGINEERING' 'Anthropology'\n",
            " 'Agriculture | Science' 'Ecology and Evolution' 'MEDICINE'\n",
            " 'Sports Medicine' 'Literary Studies' 'Naval Science' 'VETERINARY'\n",
            " 'Technology | Philosophy. Psychology. Religion' 'Neuroscience'\n",
            " 'Mathematics' 'ECOLOGY AND EVOLUTION' 'Fine Arts | Science'\n",
            " 'MOLECULAR AND CELL BIOLOGY' 'Molecular and Cell Biology'\n",
            " 'Education | Geography. Anthropology. Recreation'\n",
            " 'Fine Arts | Language and Literature'\n",
            " 'Geography. Anthropology. Recreation | Science' 'Education | Medicine'\n",
            " 'ONCOLOGY' 'Agriculture | Technology | Science' 'Circuits'\n",
            " 'Political science | Social Sciences' 'Music and books on Music'\n",
            " 'Medicine | Science' 'LAW' 'INFECTIOUS DISEASES'\n",
            " 'Military Science | Political science' 'Physics and Chemistry'\n",
            " 'Psychology' 'Ophthalmology' 'Orthopedics' 'PHYSICS AND CHEMISTRY'\n",
            " 'Law | Political science' 'Technology | Medicine | Science' 'ROBOTICS'\n",
            " 'Astronomy and Astrophysics' 'ECONOMICS' 'MATHEMATICS' 'Food Science'\n",
            " 'WOOD PRODUCTS' 'NEPHROLOGY' 'Operations Research' 'PSYCHOLOGY'\n",
            " 'Education | Technology' 'Medicine | Social Sciences'\n",
            " 'Scholarly Publishing' 'Psychiatry' 'Gastroenterology' 'FOOD SCIENCE'\n",
            " 'PSYCHIATRY' 'Agriculture | Medicine' 'Energy' 'Education | Science'\n",
            " 'Education | Language and Literature' 'RADIOLOGY'\n",
            " 'Information & Library Sciences' 'Arts & Humanities'\n",
            " 'Scientific Equipment' 'PLASTIC SURGERY' 'COMPUTER SCIENCE' 'SOCIOLOGY'\n",
            " 'Economics' 'EDUCATION' 'Business & Management' 'Technology | Science'\n",
            " 'ORTHOPEDICS' 'Law | Social Sciences' 'Technology | Medicine' 'Radiology'\n",
            " 'Agriculture | Technology'\n",
            " 'Fine Arts | Geography. Anthropology. Recreation'\n",
            " 'Medicine | Philosophy. Psychology. Religion' 'NEUROSCIENCE' 'Marketing'\n",
            " 'Oncology' 'Plant Biology' 'Military Science' 'GASTROENTEROLOGY'\n",
            " 'Informatics' 'General Science & Technology' 'Languages & Linguistics'\n",
            " 'Law | Medicine' 'Library and Information Science'\n",
            " 'Philosophy. Psychology. Religion | Science' 'Architecture'\n",
            " 'Computer Science' 'UROLOGY' 'PHARMACOLOGY' 'Environmental Health'\n",
            " 'History and Philosophy of Science' 'OPHTHALMOLOGY' 'Information Science'\n",
            " 'RHEUMATOLOGY' 'Nursing' 'Education | Social Sciences' 'SPORTS MEDICINE'\n",
            " 'MARKETING' 'ANTHROPOLOGY' 'Geotechnology'\n",
            " 'Technology | Language and Literature' 'Policy and Law'\n",
            " 'Education | Political science | Social Sciences'\n",
            " 'Agriculture | Geography. Anthropology. Recreation'\n",
            " 'Technology | Social Sciences' 'PLANT BIOLOGY' 'Literature'\n",
            " 'Philosophy. Psychology. Religion | Social Sciences'\n",
            " 'Communication & Media Studies' 'POLITICAL SCIENCE' 'Dynamics'\n",
            " 'Education | Philosophy. Psychology. Religion' 'Linguistics'\n",
            " 'Arts and Humanities' 'Robotics' 'DENTISTRY'\n",
            " 'Language and Literature | Social Sciences'\n",
            " 'History America | Social Sciences' 'Urology' 'Technology | Law'\n",
            " 'Infectious Diseases' 'Dentistry' 'RoBOTiCS']\n",
            "-----------\n",
            "Unique Categories : 142\n"
          ],
          "name": "stdout"
        }
      ]
    },
    {
      "cell_type": "markdown",
      "metadata": {
        "id": "8bt-eYpGgb_o",
        "colab_type": "text"
      },
      "source": [
        "From the above data, it is clear that the category names are not uniform in the letter case which means there is a possib;ity of having a duplicate entry based on lower case and upper case."
      ]
    },
    {
      "cell_type": "code",
      "metadata": {
        "id": "8gjVlIoaf-fF",
        "colab_type": "code",
        "colab": {
          "base_uri": "https://localhost:8080/",
          "height": 901
        },
        "outputId": "29a500af-1bbb-4e24-872a-80ae569f475f"
      },
      "source": [
        "\n",
        "# Capitalizing each word\n",
        "print((journals.category.str.title()).unique())\n",
        "\n",
        "print(\"\\n-----------\\n\")\n",
        "\n",
        "# Checking the distribution of categories\n",
        "print('Unique categories before capitalization: ' , unique_categories_previous)\n",
        "print('Unique categories after capitalization : ', len((journals.category.str.title()).unique()))"
      ],
      "execution_count": 9,
      "outputs": [
        {
          "output_type": "stream",
          "text": [
            "['Medicine' nan 'Science' 'Education' 'Law' 'Agriculture'\n",
            " 'Social Sciences' 'General Works' 'Geography. Anthropology. Recreation'\n",
            " 'History (General) And History Of Europe' 'Technology' 'Fine Arts'\n",
            " 'Political Science' 'Language And Literature'\n",
            " 'Philosophy. Psychology. Religion' 'Auxiliary Sciences Of History'\n",
            " 'Veterinary' 'History America' 'Structural Engineering' 'Anthropology'\n",
            " 'Agriculture | Science' 'Ecology And Evolution' 'Sports Medicine'\n",
            " 'Literary Studies' 'Naval Science'\n",
            " 'Technology | Philosophy. Psychology. Religion' 'Neuroscience'\n",
            " 'Mathematics' 'Fine Arts | Science' 'Molecular And Cell Biology'\n",
            " 'Education | Geography. Anthropology. Recreation'\n",
            " 'Fine Arts | Language And Literature'\n",
            " 'Geography. Anthropology. Recreation | Science' 'Education | Medicine'\n",
            " 'Oncology' 'Agriculture | Technology | Science' 'Circuits'\n",
            " 'Political Science | Social Sciences' 'Music And Books On Music'\n",
            " 'Medicine | Science' 'Infectious Diseases'\n",
            " 'Military Science | Political Science' 'Physics And Chemistry'\n",
            " 'Psychology' 'Ophthalmology' 'Orthopedics' 'Law | Political Science'\n",
            " 'Technology | Medicine | Science' 'Robotics' 'Astronomy And Astrophysics'\n",
            " 'Economics' 'Food Science' 'Wood Products' 'Nephrology'\n",
            " 'Operations Research' 'Education | Technology'\n",
            " 'Medicine | Social Sciences' 'Scholarly Publishing' 'Psychiatry'\n",
            " 'Gastroenterology' 'Agriculture | Medicine' 'Energy'\n",
            " 'Education | Science' 'Education | Language And Literature' 'Radiology'\n",
            " 'Information & Library Sciences' 'Arts & Humanities'\n",
            " 'Scientific Equipment' 'Plastic Surgery' 'Computer Science' 'Sociology'\n",
            " 'Business & Management' 'Technology | Science' 'Law | Social Sciences'\n",
            " 'Technology | Medicine' 'Agriculture | Technology'\n",
            " 'Fine Arts | Geography. Anthropology. Recreation'\n",
            " 'Medicine | Philosophy. Psychology. Religion' 'Marketing' 'Plant Biology'\n",
            " 'Military Science' 'Informatics' 'General Science & Technology'\n",
            " 'Languages & Linguistics' 'Law | Medicine'\n",
            " 'Library And Information Science'\n",
            " 'Philosophy. Psychology. Religion | Science' 'Architecture' 'Urology'\n",
            " 'Pharmacology' 'Environmental Health' 'History And Philosophy Of Science'\n",
            " 'Information Science' 'Rheumatology' 'Nursing'\n",
            " 'Education | Social Sciences' 'Geotechnology'\n",
            " 'Technology | Language And Literature' 'Policy And Law'\n",
            " 'Education | Political Science | Social Sciences'\n",
            " 'Agriculture | Geography. Anthropology. Recreation'\n",
            " 'Technology | Social Sciences' 'Literature'\n",
            " 'Philosophy. Psychology. Religion | Social Sciences'\n",
            " 'Communication & Media Studies' 'Dynamics'\n",
            " 'Education | Philosophy. Psychology. Religion' 'Linguistics'\n",
            " 'Arts And Humanities' 'Dentistry'\n",
            " 'Language And Literature | Social Sciences'\n",
            " 'History America | Social Sciences' 'Technology | Law']\n",
            "\n",
            "-----------\n",
            "\n",
            "Unique categories before capitalization:  142\n",
            "Unique categories after capitalization :  113\n"
          ],
          "name": "stdout"
        }
      ]
    },
    {
      "cell_type": "code",
      "metadata": {
        "id": "nz4V7sOCjRXr",
        "colab_type": "code",
        "colab": {
          "base_uri": "https://localhost:8080/",
          "height": 34
        },
        "outputId": "0bfcf8c1-a268-45ef-f9f6-db30906d324e"
      },
      "source": [
        "print(journals.is_hybrid.unique())"
      ],
      "execution_count": 10,
      "outputs": [
        {
          "output_type": "stream",
          "text": [
            "[ 0.  1. 10.]\n"
          ],
          "name": "stdout"
        }
      ]
    },
    {
      "cell_type": "markdown",
      "metadata": {
        "id": "vk_9EkLH6zsS",
        "colab_type": "text"
      },
      "source": [
        " It is clear that there are duplicates because of the capitalization. Therefore, making the category column uniform in terms of capitalization\n"
      ]
    },
    {
      "cell_type": "markdown",
      "metadata": {
        "id": "ox4cM-G1jfiw",
        "colab_type": "text"
      },
      "source": [
        "Checking Duplicate values and dropping them based on 'issn' column."
      ]
    },
    {
      "cell_type": "code",
      "metadata": {
        "id": "TMyUYPvhjjfF",
        "colab_type": "code",
        "colab": {
          "base_uri": "https://localhost:8080/",
          "height": 34
        },
        "outputId": "8a21c2b5-4037-40f6-a051-55f4a072b01f"
      },
      "source": [
        "journals.shape"
      ],
      "execution_count": 11,
      "outputs": [
        {
          "output_type": "execute_result",
          "data": {
            "text/plain": [
              "(105492, 6)"
            ]
          },
          "metadata": {
            "tags": []
          },
          "execution_count": 11
        }
      ]
    },
    {
      "cell_type": "code",
      "metadata": {
        "id": "MsCfYGUikKon",
        "colab_type": "code",
        "colab": {}
      },
      "source": [
        "journals.drop_duplicates(subset='issn',keep='first',inplace=True)"
      ],
      "execution_count": 0,
      "outputs": []
    },
    {
      "cell_type": "code",
      "metadata": {
        "id": "o1fFZFHckiji",
        "colab_type": "code",
        "colab": {
          "base_uri": "https://localhost:8080/",
          "height": 34
        },
        "outputId": "cffb2134-cc4a-425e-d066-9b3bc5e9d469"
      },
      "source": [
        "journals.shape"
      ],
      "execution_count": 13,
      "outputs": [
        {
          "output_type": "execute_result",
          "data": {
            "text/plain": [
              "(13248, 6)"
            ]
          },
          "metadata": {
            "tags": []
          },
          "execution_count": 13
        }
      ]
    },
    {
      "cell_type": "code",
      "metadata": {
        "id": "rl9Y71uqmCXG",
        "colab_type": "code",
        "colab": {
          "base_uri": "https://localhost:8080/",
          "height": 204
        },
        "outputId": "2908da87-0219-48a7-8c6f-b9d8b3807a55"
      },
      "source": [
        "journals.info()"
      ],
      "execution_count": 14,
      "outputs": [
        {
          "output_type": "stream",
          "text": [
            "<class 'pandas.core.frame.DataFrame'>\n",
            "Int64Index: 13248 entries, 0 to 105494\n",
            "Data columns (total 6 columns):\n",
            "issn            13248 non-null object\n",
            "journal_name    13248 non-null object\n",
            "pub_name        11679 non-null object\n",
            "is_hybrid       13248 non-null float64\n",
            "category        6818 non-null object\n",
            "url             6386 non-null object\n",
            "dtypes: float64(1), object(5)\n",
            "memory usage: 724.5+ KB\n"
          ],
          "name": "stdout"
        }
      ]
    },
    {
      "cell_type": "markdown",
      "metadata": {
        "id": "nYi9rzbrmP2D",
        "colab_type": "text"
      },
      "source": [
        "Replacig the Nan Values in Category to 'Other'"
      ]
    },
    {
      "cell_type": "code",
      "metadata": {
        "id": "C2RygIf5kq0X",
        "colab_type": "code",
        "colab": {
          "base_uri": "https://localhost:8080/",
          "height": 204
        },
        "outputId": "ddfa6373-8dda-4891-81ad-e7971e20b681"
      },
      "source": [
        "journals['category'].fillna(value='Other',inplace=True)\n",
        "journals.info()\n"
      ],
      "execution_count": 15,
      "outputs": [
        {
          "output_type": "stream",
          "text": [
            "<class 'pandas.core.frame.DataFrame'>\n",
            "Int64Index: 13248 entries, 0 to 105494\n",
            "Data columns (total 6 columns):\n",
            "issn            13248 non-null object\n",
            "journal_name    13248 non-null object\n",
            "pub_name        11679 non-null object\n",
            "is_hybrid       13248 non-null float64\n",
            "category        13248 non-null object\n",
            "url             6386 non-null object\n",
            "dtypes: float64(1), object(5)\n",
            "memory usage: 724.5+ KB\n"
          ],
          "name": "stdout"
        }
      ]
    },
    {
      "cell_type": "markdown",
      "metadata": {
        "id": "xFcduqF6mXbb",
        "colab_type": "text"
      },
      "source": [
        "Replacing the Nan values in url to 'No Url'"
      ]
    },
    {
      "cell_type": "code",
      "metadata": {
        "id": "aEGBR3qSmWnr",
        "colab_type": "code",
        "colab": {
          "base_uri": "https://localhost:8080/",
          "height": 204
        },
        "outputId": "c9c92506-d7d9-4972-842c-bc5b4689e9e3"
      },
      "source": [
        "journals['url'].fillna(value='No Url',inplace=True)\n",
        "journals.info()"
      ],
      "execution_count": 16,
      "outputs": [
        {
          "output_type": "stream",
          "text": [
            "<class 'pandas.core.frame.DataFrame'>\n",
            "Int64Index: 13248 entries, 0 to 105494\n",
            "Data columns (total 6 columns):\n",
            "issn            13248 non-null object\n",
            "journal_name    13248 non-null object\n",
            "pub_name        11679 non-null object\n",
            "is_hybrid       13248 non-null float64\n",
            "category        13248 non-null object\n",
            "url             13248 non-null object\n",
            "dtypes: float64(1), object(5)\n",
            "memory usage: 724.5+ KB\n"
          ],
          "name": "stdout"
        }
      ]
    },
    {
      "cell_type": "markdown",
      "metadata": {
        "id": "QRXghDOMwIjw",
        "colab_type": "text"
      },
      "source": [
        "Replacing the Nan in pub name with 'Other'"
      ]
    },
    {
      "cell_type": "code",
      "metadata": {
        "id": "OdAeMjtZwSls",
        "colab_type": "code",
        "colab": {
          "base_uri": "https://localhost:8080/",
          "height": 204
        },
        "outputId": "f0b9c812-4b24-4768-cecf-223e8d385c24"
      },
      "source": [
        "journals['pub_name'].fillna(value='Other',inplace=True)\n",
        "journals.info()"
      ],
      "execution_count": 17,
      "outputs": [
        {
          "output_type": "stream",
          "text": [
            "<class 'pandas.core.frame.DataFrame'>\n",
            "Int64Index: 13248 entries, 0 to 105494\n",
            "Data columns (total 6 columns):\n",
            "issn            13248 non-null object\n",
            "journal_name    13248 non-null object\n",
            "pub_name        13248 non-null object\n",
            "is_hybrid       13248 non-null float64\n",
            "category        13248 non-null object\n",
            "url             13248 non-null object\n",
            "dtypes: float64(1), object(5)\n",
            "memory usage: 724.5+ KB\n"
          ],
          "name": "stdout"
        }
      ]
    },
    {
      "cell_type": "markdown",
      "metadata": {
        "id": "skF2IUUQpO9a",
        "colab_type": "text"
      },
      "source": [
        "Relacing the numeric url with the literal 'No Url' as we know this is invalid."
      ]
    },
    {
      "cell_type": "code",
      "metadata": {
        "id": "eZFs5zaBpPVy",
        "colab_type": "code",
        "colab": {}
      },
      "source": [
        "\n",
        "journals.loc[journals.url.str.isnumeric() == True] = 'No Url'\n"
      ],
      "execution_count": 0,
      "outputs": []
    },
    {
      "cell_type": "code",
      "metadata": {
        "id": "VPhAazs2pb6m",
        "colab_type": "code",
        "colab": {
          "base_uri": "https://localhost:8080/",
          "height": 204
        },
        "outputId": "2728e76d-0fd9-4453-89e1-25cb37b41622"
      },
      "source": [
        "journals.info()"
      ],
      "execution_count": 19,
      "outputs": [
        {
          "output_type": "stream",
          "text": [
            "<class 'pandas.core.frame.DataFrame'>\n",
            "Int64Index: 13248 entries, 0 to 105494\n",
            "Data columns (total 6 columns):\n",
            "issn            13248 non-null object\n",
            "journal_name    13248 non-null object\n",
            "pub_name        13248 non-null object\n",
            "is_hybrid       13248 non-null object\n",
            "category        13248 non-null object\n",
            "url             13248 non-null object\n",
            "dtypes: object(6)\n",
            "memory usage: 724.5+ KB\n"
          ],
          "name": "stdout"
        }
      ]
    },
    {
      "cell_type": "code",
      "metadata": {
        "id": "ROBmLamzqkC3",
        "colab_type": "code",
        "colab": {
          "base_uri": "https://localhost:8080/",
          "height": 589
        },
        "outputId": "232230ca-e8d3-456d-ab0a-d2e26ce0ff2d"
      },
      "source": [
        "journals"
      ],
      "execution_count": 20,
      "outputs": [
        {
          "output_type": "execute_result",
          "data": {
            "text/html": [
              "<div>\n",
              "<style scoped>\n",
              "    .dataframe tbody tr th:only-of-type {\n",
              "        vertical-align: middle;\n",
              "    }\n",
              "\n",
              "    .dataframe tbody tr th {\n",
              "        vertical-align: top;\n",
              "    }\n",
              "\n",
              "    .dataframe thead th {\n",
              "        text-align: right;\n",
              "    }\n",
              "</style>\n",
              "<table border=\"1\" class=\"dataframe\">\n",
              "  <thead>\n",
              "    <tr style=\"text-align: right;\">\n",
              "      <th></th>\n",
              "      <th>issn</th>\n",
              "      <th>journal_name</th>\n",
              "      <th>pub_name</th>\n",
              "      <th>is_hybrid</th>\n",
              "      <th>category</th>\n",
              "      <th>url</th>\n",
              "    </tr>\n",
              "  </thead>\n",
              "  <tbody>\n",
              "    <tr>\n",
              "      <th>0</th>\n",
              "      <td>1654-9880</td>\n",
              "      <td>Global Health Action</td>\n",
              "      <td>Co-Action Publishing</td>\n",
              "      <td>0</td>\n",
              "      <td>Medicine</td>\n",
              "      <td>No Url</td>\n",
              "    </tr>\n",
              "    <tr>\n",
              "      <th>1</th>\n",
              "      <td>2278-9480</td>\n",
              "      <td>International Journal of Applied Research &amp; St...</td>\n",
              "      <td>Other</td>\n",
              "      <td>0</td>\n",
              "      <td>Other</td>\n",
              "      <td>No Url</td>\n",
              "    </tr>\n",
              "    <tr>\n",
              "      <th>2</th>\n",
              "      <td>1980-5918</td>\n",
              "      <td>Fisioterapia Em Movimento</td>\n",
              "      <td>PontifÔŅĹcia Universidade CatÔŅĹlica do ParanÔŅĹ</td>\n",
              "      <td>0</td>\n",
              "      <td>Medicine</td>\n",
              "      <td>http://www.pucpr.br/revfisio</td>\n",
              "    </tr>\n",
              "    <tr>\n",
              "      <th>3</th>\n",
              "      <td>1121-760X</td>\n",
              "      <td>European Journal of Histochemistry</td>\n",
              "      <td>Other</td>\n",
              "      <td>0</td>\n",
              "      <td>Other</td>\n",
              "      <td>No Url</td>\n",
              "    </tr>\n",
              "    <tr>\n",
              "      <th>4</th>\n",
              "      <td>2319-5754</td>\n",
              "      <td>Species</td>\n",
              "      <td>Discovery Publication</td>\n",
              "      <td>0</td>\n",
              "      <td>Other</td>\n",
              "      <td>No Url</td>\n",
              "    </tr>\n",
              "    <tr>\n",
              "      <th>...</th>\n",
              "      <td>...</td>\n",
              "      <td>...</td>\n",
              "      <td>...</td>\n",
              "      <td>...</td>\n",
              "      <td>...</td>\n",
              "      <td>...</td>\n",
              "    </tr>\n",
              "    <tr>\n",
              "      <th>105487</th>\n",
              "      <td>00102-0453</td>\n",
              "      <td>anthropologie56</td>\n",
              "      <td>Other</td>\n",
              "      <td>0</td>\n",
              "      <td>Other</td>\n",
              "      <td>No Url</td>\n",
              "    </tr>\n",
              "    <tr>\n",
              "      <th>105488</th>\n",
              "      <td>00102-0458</td>\n",
              "      <td>anthropologie61</td>\n",
              "      <td>Other</td>\n",
              "      <td>0</td>\n",
              "      <td>Other</td>\n",
              "      <td>No Url</td>\n",
              "    </tr>\n",
              "    <tr>\n",
              "      <th>105492</th>\n",
              "      <td>00102-0455</td>\n",
              "      <td>anthropologie58</td>\n",
              "      <td>Other</td>\n",
              "      <td>0</td>\n",
              "      <td>Other</td>\n",
              "      <td>No Url</td>\n",
              "    </tr>\n",
              "    <tr>\n",
              "      <th>105493</th>\n",
              "      <td>00102-0408</td>\n",
              "      <td>anthropologie11</td>\n",
              "      <td>Other</td>\n",
              "      <td>0</td>\n",
              "      <td>Other</td>\n",
              "      <td>No Url</td>\n",
              "    </tr>\n",
              "    <tr>\n",
              "      <th>105494</th>\n",
              "      <td>00102-0401</td>\n",
              "      <td>anthropologie4</td>\n",
              "      <td>Other</td>\n",
              "      <td>0</td>\n",
              "      <td>Other</td>\n",
              "      <td>No Url</td>\n",
              "    </tr>\n",
              "  </tbody>\n",
              "</table>\n",
              "<p>13248 rows × 6 columns</p>\n",
              "</div>"
            ],
            "text/plain": [
              "              issn  ...                           url\n",
              "0        1654-9880  ...                        No Url\n",
              "1        2278-9480  ...                        No Url\n",
              "2        1980-5918  ...  http://www.pucpr.br/revfisio\n",
              "3        1121-760X  ...                        No Url\n",
              "4        2319-5754  ...                        No Url\n",
              "...            ...  ...                           ...\n",
              "105487  00102-0453  ...                        No Url\n",
              "105488  00102-0458  ...                        No Url\n",
              "105492  00102-0455  ...                        No Url\n",
              "105493  00102-0408  ...                        No Url\n",
              "105494  00102-0401  ...                        No Url\n",
              "\n",
              "[13248 rows x 6 columns]"
            ]
          },
          "metadata": {
            "tags": []
          },
          "execution_count": 20
        }
      ]
    },
    {
      "cell_type": "markdown",
      "metadata": {
        "id": "SSXGKak3w5Dh",
        "colab_type": "text"
      },
      "source": [
        "# Estimated Article Influence Scores"
      ]
    },
    {
      "cell_type": "code",
      "metadata": {
        "id": "2b1DvKEosgQn",
        "colab_type": "code",
        "colab": {
          "base_uri": "https://localhost:8080/",
          "height": 306
        },
        "outputId": "9660a405-b513-434d-d3a4-cb67e4f4bfa7"
      },
      "source": [
        "\n",
        "\n",
        "estimated = pd.read_csv(\"estimated-article-influence-scores-2015.csv\", encoding = encode_type)\n",
        "\n",
        "estimated.head()"
      ],
      "execution_count": 21,
      "outputs": [
        {
          "output_type": "execute_result",
          "data": {
            "text/html": [
              "<div>\n",
              "<style scoped>\n",
              "    .dataframe tbody tr th:only-of-type {\n",
              "        vertical-align: middle;\n",
              "    }\n",
              "\n",
              "    .dataframe tbody tr th {\n",
              "        vertical-align: top;\n",
              "    }\n",
              "\n",
              "    .dataframe thead th {\n",
              "        text-align: right;\n",
              "    }\n",
              "</style>\n",
              "<table border=\"1\" class=\"dataframe\">\n",
              "  <thead>\n",
              "    <tr style=\"text-align: right;\">\n",
              "      <th></th>\n",
              "      <th>Unnamed: 0</th>\n",
              "      <th>journal_name</th>\n",
              "      <th>issn</th>\n",
              "      <th>citation_count_sum</th>\n",
              "      <th>paper_count_sum</th>\n",
              "      <th>avg_cites_per_paper</th>\n",
              "      <th>proj_ai</th>\n",
              "      <th>proj_ai_year</th>\n",
              "    </tr>\n",
              "  </thead>\n",
              "  <tbody>\n",
              "    <tr>\n",
              "      <th>0</th>\n",
              "      <td>0</td>\n",
              "      <td>3d research</td>\n",
              "      <td>2092-6731</td>\n",
              "      <td>151.0</td>\n",
              "      <td>106.0</td>\n",
              "      <td>1.424528</td>\n",
              "      <td>0.290</td>\n",
              "      <td>2015</td>\n",
              "    </tr>\n",
              "    <tr>\n",
              "      <th>1</th>\n",
              "      <td>1</td>\n",
              "      <td>aaps pharmscitech</td>\n",
              "      <td>1530-9932</td>\n",
              "      <td>2208.0</td>\n",
              "      <td>801.0</td>\n",
              "      <td>2.756554</td>\n",
              "      <td>0.665</td>\n",
              "      <td>2015</td>\n",
              "    </tr>\n",
              "    <tr>\n",
              "      <th>2</th>\n",
              "      <td>2</td>\n",
              "      <td>abstract and applied analysis</td>\n",
              "      <td>1687-0409</td>\n",
              "      <td>3005.0</td>\n",
              "      <td>2923.0</td>\n",
              "      <td>1.028053</td>\n",
              "      <td>0.192</td>\n",
              "      <td>2015</td>\n",
              "    </tr>\n",
              "    <tr>\n",
              "      <th>3</th>\n",
              "      <td>3</td>\n",
              "      <td>academic psychiatry</td>\n",
              "      <td>1545-7230</td>\n",
              "      <td>537.0</td>\n",
              "      <td>490.0</td>\n",
              "      <td>1.095918</td>\n",
              "      <td>0.208</td>\n",
              "      <td>2015</td>\n",
              "    </tr>\n",
              "    <tr>\n",
              "      <th>4</th>\n",
              "      <td>4</td>\n",
              "      <td>academic questions</td>\n",
              "      <td>1936-4709</td>\n",
              "      <td>40.0</td>\n",
              "      <td>67.0</td>\n",
              "      <td>0.597015</td>\n",
              "      <td>0.097</td>\n",
              "      <td>2015</td>\n",
              "    </tr>\n",
              "  </tbody>\n",
              "</table>\n",
              "</div>"
            ],
            "text/plain": [
              "   Unnamed: 0                   journal_name  ... proj_ai  proj_ai_year\n",
              "0           0                    3d research  ...   0.290          2015\n",
              "1           1              aaps pharmscitech  ...   0.665          2015\n",
              "2           2  abstract and applied analysis  ...   0.192          2015\n",
              "3           3            academic psychiatry  ...   0.208          2015\n",
              "4           4             academic questions  ...   0.097          2015\n",
              "\n",
              "[5 rows x 8 columns]"
            ]
          },
          "metadata": {
            "tags": []
          },
          "execution_count": 21
        }
      ]
    },
    {
      "cell_type": "code",
      "metadata": {
        "id": "7mP9C9dgsvrl",
        "colab_type": "code",
        "colab": {
          "base_uri": "https://localhost:8080/",
          "height": 238
        },
        "outputId": "1c05e179-66d4-4b19-ce69-5aa6eb81c578"
      },
      "source": [
        "estimated.info()"
      ],
      "execution_count": 22,
      "outputs": [
        {
          "output_type": "stream",
          "text": [
            "<class 'pandas.core.frame.DataFrame'>\n",
            "RangeIndex: 3615 entries, 0 to 3614\n",
            "Data columns (total 8 columns):\n",
            "Unnamed: 0             3615 non-null int64\n",
            "journal_name           3615 non-null object\n",
            "issn                   3615 non-null object\n",
            "citation_count_sum     3603 non-null float64\n",
            "paper_count_sum        3603 non-null float64\n",
            "avg_cites_per_paper    3603 non-null float64\n",
            "proj_ai                3603 non-null float64\n",
            "proj_ai_year           3615 non-null int64\n",
            "dtypes: float64(4), int64(2), object(2)\n",
            "memory usage: 226.1+ KB\n"
          ],
          "name": "stdout"
        }
      ]
    },
    {
      "cell_type": "code",
      "metadata": {
        "id": "X9OqmjLJszK9",
        "colab_type": "code",
        "colab": {
          "base_uri": "https://localhost:8080/",
          "height": 34
        },
        "outputId": "3b79a2f7-00bc-4fd0-fec6-f45568cd6da2"
      },
      "source": [
        "estimated.shape"
      ],
      "execution_count": 23,
      "outputs": [
        {
          "output_type": "execute_result",
          "data": {
            "text/plain": [
              "(3615, 8)"
            ]
          },
          "metadata": {
            "tags": []
          },
          "execution_count": 23
        }
      ]
    },
    {
      "cell_type": "code",
      "metadata": {
        "id": "XGwLpROIuHnH",
        "colab_type": "code",
        "colab": {
          "base_uri": "https://localhost:8080/",
          "height": 297
        },
        "outputId": "908db82d-4139-42f9-e8e7-b9f51a9f21d2"
      },
      "source": [
        "estimated.describe()"
      ],
      "execution_count": 24,
      "outputs": [
        {
          "output_type": "execute_result",
          "data": {
            "text/html": [
              "<div>\n",
              "<style scoped>\n",
              "    .dataframe tbody tr th:only-of-type {\n",
              "        vertical-align: middle;\n",
              "    }\n",
              "\n",
              "    .dataframe tbody tr th {\n",
              "        vertical-align: top;\n",
              "    }\n",
              "\n",
              "    .dataframe thead th {\n",
              "        text-align: right;\n",
              "    }\n",
              "</style>\n",
              "<table border=\"1\" class=\"dataframe\">\n",
              "  <thead>\n",
              "    <tr style=\"text-align: right;\">\n",
              "      <th></th>\n",
              "      <th>Unnamed: 0</th>\n",
              "      <th>citation_count_sum</th>\n",
              "      <th>paper_count_sum</th>\n",
              "      <th>avg_cites_per_paper</th>\n",
              "      <th>proj_ai</th>\n",
              "      <th>proj_ai_year</th>\n",
              "    </tr>\n",
              "  </thead>\n",
              "  <tbody>\n",
              "    <tr>\n",
              "      <th>count</th>\n",
              "      <td>3615.000000</td>\n",
              "      <td>3603.000000</td>\n",
              "      <td>3603.000000</td>\n",
              "      <td>3603.000000</td>\n",
              "      <td>3603.000000</td>\n",
              "      <td>3615.0</td>\n",
              "    </tr>\n",
              "    <tr>\n",
              "      <th>mean</th>\n",
              "      <td>1831.496542</td>\n",
              "      <td>1446.713850</td>\n",
              "      <td>509.671107</td>\n",
              "      <td>2.118970</td>\n",
              "      <td>0.516554</td>\n",
              "      <td>2015.0</td>\n",
              "    </tr>\n",
              "    <tr>\n",
              "      <th>std</th>\n",
              "      <td>1056.690131</td>\n",
              "      <td>7996.860704</td>\n",
              "      <td>1923.905084</td>\n",
              "      <td>1.687837</td>\n",
              "      <td>0.572554</td>\n",
              "      <td>0.0</td>\n",
              "    </tr>\n",
              "    <tr>\n",
              "      <th>min</th>\n",
              "      <td>0.000000</td>\n",
              "      <td>0.000000</td>\n",
              "      <td>1.000000</td>\n",
              "      <td>0.000000</td>\n",
              "      <td>0.000000</td>\n",
              "      <td>2015.0</td>\n",
              "    </tr>\n",
              "    <tr>\n",
              "      <th>25%</th>\n",
              "      <td>916.500000</td>\n",
              "      <td>150.000000</td>\n",
              "      <td>107.000000</td>\n",
              "      <td>1.054941</td>\n",
              "      <td>0.199000</td>\n",
              "      <td>2015.0</td>\n",
              "    </tr>\n",
              "    <tr>\n",
              "      <th>50%</th>\n",
              "      <td>1835.000000</td>\n",
              "      <td>421.000000</td>\n",
              "      <td>239.000000</td>\n",
              "      <td>1.717822</td>\n",
              "      <td>0.367000</td>\n",
              "      <td>2015.0</td>\n",
              "    </tr>\n",
              "    <tr>\n",
              "      <th>75%</th>\n",
              "      <td>2746.500000</td>\n",
              "      <td>1097.000000</td>\n",
              "      <td>522.000000</td>\n",
              "      <td>2.710734</td>\n",
              "      <td>0.651500</td>\n",
              "      <td>2015.0</td>\n",
              "    </tr>\n",
              "    <tr>\n",
              "      <th>max</th>\n",
              "      <td>3659.000000</td>\n",
              "      <td>426949.000000</td>\n",
              "      <td>104705.000000</td>\n",
              "      <td>26.318824</td>\n",
              "      <td>11.367000</td>\n",
              "      <td>2015.0</td>\n",
              "    </tr>\n",
              "  </tbody>\n",
              "</table>\n",
              "</div>"
            ],
            "text/plain": [
              "        Unnamed: 0  citation_count_sum  ...      proj_ai  proj_ai_year\n",
              "count  3615.000000         3603.000000  ...  3603.000000        3615.0\n",
              "mean   1831.496542         1446.713850  ...     0.516554        2015.0\n",
              "std    1056.690131         7996.860704  ...     0.572554           0.0\n",
              "min       0.000000            0.000000  ...     0.000000        2015.0\n",
              "25%     916.500000          150.000000  ...     0.199000        2015.0\n",
              "50%    1835.000000          421.000000  ...     0.367000        2015.0\n",
              "75%    2746.500000         1097.000000  ...     0.651500        2015.0\n",
              "max    3659.000000       426949.000000  ...    11.367000        2015.0\n",
              "\n",
              "[8 rows x 6 columns]"
            ]
          },
          "metadata": {
            "tags": []
          },
          "execution_count": 24
        }
      ]
    },
    {
      "cell_type": "markdown",
      "metadata": {
        "id": "ZUzGhhS5vJT7",
        "colab_type": "text"
      },
      "source": [
        "Replacing the null values in the column with the mean of the given values"
      ]
    },
    {
      "cell_type": "code",
      "metadata": {
        "id": "YO5tap5ZuhM3",
        "colab_type": "code",
        "colab": {}
      },
      "source": [
        "estimated['citation_count_sum'].fillna(value=estimated['citation_count_sum'].mean(),inplace=True)\n",
        "estimated['paper_count_sum'].fillna(value=estimated['paper_count_sum'].mean(),inplace=True)\n",
        "estimated['avg_cites_per_paper'].fillna(value=estimated['avg_cites_per_paper'].mean(),inplace=True)\n",
        "estimated['proj_ai'].fillna(value=estimated['proj_ai'].mean(),inplace=True)\n",
        "\n"
      ],
      "execution_count": 0,
      "outputs": []
    },
    {
      "cell_type": "code",
      "metadata": {
        "id": "IStzfQ-_vLQI",
        "colab_type": "code",
        "colab": {
          "base_uri": "https://localhost:8080/",
          "height": 238
        },
        "outputId": "06f5eed0-f3b2-42fc-b4b3-8fc074951263"
      },
      "source": [
        "estimated.info()"
      ],
      "execution_count": 26,
      "outputs": [
        {
          "output_type": "stream",
          "text": [
            "<class 'pandas.core.frame.DataFrame'>\n",
            "RangeIndex: 3615 entries, 0 to 3614\n",
            "Data columns (total 8 columns):\n",
            "Unnamed: 0             3615 non-null int64\n",
            "journal_name           3615 non-null object\n",
            "issn                   3615 non-null object\n",
            "citation_count_sum     3615 non-null float64\n",
            "paper_count_sum        3615 non-null float64\n",
            "avg_cites_per_paper    3615 non-null float64\n",
            "proj_ai                3615 non-null float64\n",
            "proj_ai_year           3615 non-null int64\n",
            "dtypes: float64(4), int64(2), object(2)\n",
            "memory usage: 226.1+ KB\n"
          ],
          "name": "stdout"
        }
      ]
    },
    {
      "cell_type": "code",
      "metadata": {
        "id": "RMcxYvGhvPvr",
        "colab_type": "code",
        "colab": {
          "base_uri": "https://localhost:8080/",
          "height": 34
        },
        "outputId": "d1a7f56f-2d7b-421b-d990-b862d53c7c86"
      },
      "source": [
        "len(estimated['issn'].unique())"
      ],
      "execution_count": 27,
      "outputs": [
        {
          "output_type": "execute_result",
          "data": {
            "text/plain": [
              "3615"
            ]
          },
          "metadata": {
            "tags": []
          },
          "execution_count": 27
        }
      ]
    },
    {
      "cell_type": "markdown",
      "metadata": {
        "id": "FX3sYzo1vi4S",
        "colab_type": "text"
      },
      "source": [
        "There seem to be no duplicate for issan column . So there is no required to drop the values."
      ]
    },
    {
      "cell_type": "code",
      "metadata": {
        "id": "pxliP2InwqYX",
        "colab_type": "code",
        "colab": {
          "base_uri": "https://localhost:8080/",
          "height": 606
        },
        "outputId": "46350e92-fdb2-4154-c401-41f374bbdf28"
      },
      "source": [
        "estimated"
      ],
      "execution_count": 28,
      "outputs": [
        {
          "output_type": "execute_result",
          "data": {
            "text/html": [
              "<div>\n",
              "<style scoped>\n",
              "    .dataframe tbody tr th:only-of-type {\n",
              "        vertical-align: middle;\n",
              "    }\n",
              "\n",
              "    .dataframe tbody tr th {\n",
              "        vertical-align: top;\n",
              "    }\n",
              "\n",
              "    .dataframe thead th {\n",
              "        text-align: right;\n",
              "    }\n",
              "</style>\n",
              "<table border=\"1\" class=\"dataframe\">\n",
              "  <thead>\n",
              "    <tr style=\"text-align: right;\">\n",
              "      <th></th>\n",
              "      <th>Unnamed: 0</th>\n",
              "      <th>journal_name</th>\n",
              "      <th>issn</th>\n",
              "      <th>citation_count_sum</th>\n",
              "      <th>paper_count_sum</th>\n",
              "      <th>avg_cites_per_paper</th>\n",
              "      <th>proj_ai</th>\n",
              "      <th>proj_ai_year</th>\n",
              "    </tr>\n",
              "  </thead>\n",
              "  <tbody>\n",
              "    <tr>\n",
              "      <th>0</th>\n",
              "      <td>0</td>\n",
              "      <td>3d research</td>\n",
              "      <td>2092-6731</td>\n",
              "      <td>151.0</td>\n",
              "      <td>106.0</td>\n",
              "      <td>1.424528</td>\n",
              "      <td>0.290</td>\n",
              "      <td>2015</td>\n",
              "    </tr>\n",
              "    <tr>\n",
              "      <th>1</th>\n",
              "      <td>1</td>\n",
              "      <td>aaps pharmscitech</td>\n",
              "      <td>1530-9932</td>\n",
              "      <td>2208.0</td>\n",
              "      <td>801.0</td>\n",
              "      <td>2.756554</td>\n",
              "      <td>0.665</td>\n",
              "      <td>2015</td>\n",
              "    </tr>\n",
              "    <tr>\n",
              "      <th>2</th>\n",
              "      <td>2</td>\n",
              "      <td>abstract and applied analysis</td>\n",
              "      <td>1687-0409</td>\n",
              "      <td>3005.0</td>\n",
              "      <td>2923.0</td>\n",
              "      <td>1.028053</td>\n",
              "      <td>0.192</td>\n",
              "      <td>2015</td>\n",
              "    </tr>\n",
              "    <tr>\n",
              "      <th>3</th>\n",
              "      <td>3</td>\n",
              "      <td>academic psychiatry</td>\n",
              "      <td>1545-7230</td>\n",
              "      <td>537.0</td>\n",
              "      <td>490.0</td>\n",
              "      <td>1.095918</td>\n",
              "      <td>0.208</td>\n",
              "      <td>2015</td>\n",
              "    </tr>\n",
              "    <tr>\n",
              "      <th>4</th>\n",
              "      <td>4</td>\n",
              "      <td>academic questions</td>\n",
              "      <td>1936-4709</td>\n",
              "      <td>40.0</td>\n",
              "      <td>67.0</td>\n",
              "      <td>0.597015</td>\n",
              "      <td>0.097</td>\n",
              "      <td>2015</td>\n",
              "    </tr>\n",
              "    <tr>\n",
              "      <th>...</th>\n",
              "      <td>...</td>\n",
              "      <td>...</td>\n",
              "      <td>...</td>\n",
              "      <td>...</td>\n",
              "      <td>...</td>\n",
              "      <td>...</td>\n",
              "      <td>...</td>\n",
              "      <td>...</td>\n",
              "    </tr>\n",
              "    <tr>\n",
              "      <th>3610</th>\n",
              "      <td>3655</td>\n",
              "      <td>zoologica poloniae</td>\n",
              "      <td>2083-6112</td>\n",
              "      <td>0.0</td>\n",
              "      <td>10.0</td>\n",
              "      <td>0.000000</td>\n",
              "      <td>0.000</td>\n",
              "      <td>2015</td>\n",
              "    </tr>\n",
              "    <tr>\n",
              "      <th>3611</th>\n",
              "      <td>3656</td>\n",
              "      <td>zoological studies</td>\n",
              "      <td>1021-5506</td>\n",
              "      <td>381.0</td>\n",
              "      <td>290.0</td>\n",
              "      <td>1.313793</td>\n",
              "      <td>0.262</td>\n",
              "      <td>2015</td>\n",
              "    </tr>\n",
              "    <tr>\n",
              "      <th>3612</th>\n",
              "      <td>3657</td>\n",
              "      <td>zoology</td>\n",
              "      <td>0944-2006</td>\n",
              "      <td>472.0</td>\n",
              "      <td>221.0</td>\n",
              "      <td>2.135747</td>\n",
              "      <td>0.483</td>\n",
              "      <td>2015</td>\n",
              "    </tr>\n",
              "    <tr>\n",
              "      <th>3613</th>\n",
              "      <td>3658</td>\n",
              "      <td>zoomorphology</td>\n",
              "      <td>1432-234X</td>\n",
              "      <td>191.0</td>\n",
              "      <td>125.0</td>\n",
              "      <td>1.528000</td>\n",
              "      <td>0.317</td>\n",
              "      <td>2015</td>\n",
              "    </tr>\n",
              "    <tr>\n",
              "      <th>3614</th>\n",
              "      <td>3659</td>\n",
              "      <td>zoosystema</td>\n",
              "      <td>1280-9551</td>\n",
              "      <td>100.0</td>\n",
              "      <td>121.0</td>\n",
              "      <td>0.826446</td>\n",
              "      <td>0.146</td>\n",
              "      <td>2015</td>\n",
              "    </tr>\n",
              "  </tbody>\n",
              "</table>\n",
              "<p>3615 rows × 8 columns</p>\n",
              "</div>"
            ],
            "text/plain": [
              "      Unnamed: 0                   journal_name  ... proj_ai  proj_ai_year\n",
              "0              0                    3d research  ...   0.290          2015\n",
              "1              1              aaps pharmscitech  ...   0.665          2015\n",
              "2              2  abstract and applied analysis  ...   0.192          2015\n",
              "3              3            academic psychiatry  ...   0.208          2015\n",
              "4              4             academic questions  ...   0.097          2015\n",
              "...          ...                            ...  ...     ...           ...\n",
              "3610        3655             zoologica poloniae  ...   0.000          2015\n",
              "3611        3656             zoological studies  ...   0.262          2015\n",
              "3612        3657                        zoology  ...   0.483          2015\n",
              "3613        3658                  zoomorphology  ...   0.317          2015\n",
              "3614        3659                     zoosystema  ...   0.146          2015\n",
              "\n",
              "[3615 rows x 8 columns]"
            ]
          },
          "metadata": {
            "tags": []
          },
          "execution_count": 28
        }
      ]
    },
    {
      "cell_type": "markdown",
      "metadata": {
        "id": "RsifoSEmxQ6f",
        "colab_type": "text"
      },
      "source": [
        "#Price.csv Cleaning\n"
      ]
    },
    {
      "cell_type": "code",
      "metadata": {
        "id": "j5HDXPpVxWzO",
        "colab_type": "code",
        "colab": {
          "base_uri": "https://localhost:8080/",
          "height": 204
        },
        "outputId": "a2d4755e-ab1d-4bbd-a8be-a5f7eafdf766"
      },
      "source": [
        "\n",
        "price = pd.read_csv(\"price.csv\", encoding = encode_type)\n",
        "price.head()"
      ],
      "execution_count": 29,
      "outputs": [
        {
          "output_type": "execute_result",
          "data": {
            "text/html": [
              "<div>\n",
              "<style scoped>\n",
              "    .dataframe tbody tr th:only-of-type {\n",
              "        vertical-align: middle;\n",
              "    }\n",
              "\n",
              "    .dataframe tbody tr th {\n",
              "        vertical-align: top;\n",
              "    }\n",
              "\n",
              "    .dataframe thead th {\n",
              "        text-align: right;\n",
              "    }\n",
              "</style>\n",
              "<table border=\"1\" class=\"dataframe\">\n",
              "  <thead>\n",
              "    <tr style=\"text-align: right;\">\n",
              "      <th></th>\n",
              "      <th>id</th>\n",
              "      <th>price</th>\n",
              "      <th>date_stamp</th>\n",
              "      <th>journal_id</th>\n",
              "      <th>influence_id</th>\n",
              "      <th>url</th>\n",
              "      <th>license</th>\n",
              "    </tr>\n",
              "  </thead>\n",
              "  <tbody>\n",
              "    <tr>\n",
              "      <th>0</th>\n",
              "      <td>8691</td>\n",
              "      <td>1400.0</td>\n",
              "      <td>2016-08-11</td>\n",
              "      <td>2051-5960</td>\n",
              "      <td>NaN</td>\n",
              "      <td>NaN</td>\n",
              "      <td>NaN</td>\n",
              "    </tr>\n",
              "    <tr>\n",
              "      <th>1</th>\n",
              "      <td>8692</td>\n",
              "      <td>2175.0</td>\n",
              "      <td>2016-08-11</td>\n",
              "      <td>1758-9193</td>\n",
              "      <td>NaN</td>\n",
              "      <td>NaN</td>\n",
              "      <td>NaN</td>\n",
              "    </tr>\n",
              "    <tr>\n",
              "      <th>2</th>\n",
              "      <td>8693</td>\n",
              "      <td>2145.0</td>\n",
              "      <td>2016-08-11</td>\n",
              "      <td>1476-0711</td>\n",
              "      <td>NaN</td>\n",
              "      <td>NaN</td>\n",
              "      <td>NaN</td>\n",
              "    </tr>\n",
              "    <tr>\n",
              "      <th>3</th>\n",
              "      <td>8694</td>\n",
              "      <td>2145.0</td>\n",
              "      <td>2016-08-11</td>\n",
              "      <td>2047-2994</td>\n",
              "      <td>NaN</td>\n",
              "      <td>NaN</td>\n",
              "      <td>NaN</td>\n",
              "    </tr>\n",
              "    <tr>\n",
              "      <th>4</th>\n",
              "      <td>8695</td>\n",
              "      <td>2145.0</td>\n",
              "      <td>2016-08-11</td>\n",
              "      <td>1744-9081</td>\n",
              "      <td>NaN</td>\n",
              "      <td>NaN</td>\n",
              "      <td>NaN</td>\n",
              "    </tr>\n",
              "  </tbody>\n",
              "</table>\n",
              "</div>"
            ],
            "text/plain": [
              "     id   price  date_stamp journal_id  influence_id  url  license\n",
              "0  8691  1400.0  2016-08-11  2051-5960           NaN  NaN      NaN\n",
              "1  8692  2175.0  2016-08-11  1758-9193           NaN  NaN      NaN\n",
              "2  8693  2145.0  2016-08-11  1476-0711           NaN  NaN      NaN\n",
              "3  8694  2145.0  2016-08-11  2047-2994           NaN  NaN      NaN\n",
              "4  8695  2145.0  2016-08-11  1744-9081           NaN  NaN      NaN"
            ]
          },
          "metadata": {
            "tags": []
          },
          "execution_count": 29
        }
      ]
    },
    {
      "cell_type": "code",
      "metadata": {
        "id": "A-c1wCbOxj2f",
        "colab_type": "code",
        "colab": {
          "base_uri": "https://localhost:8080/",
          "height": 297
        },
        "outputId": "231f6717-56dd-4a24-b8e0-6be5d1516f08"
      },
      "source": [
        "price.describe()"
      ],
      "execution_count": 30,
      "outputs": [
        {
          "output_type": "execute_result",
          "data": {
            "text/html": [
              "<div>\n",
              "<style scoped>\n",
              "    .dataframe tbody tr th:only-of-type {\n",
              "        vertical-align: middle;\n",
              "    }\n",
              "\n",
              "    .dataframe tbody tr th {\n",
              "        vertical-align: top;\n",
              "    }\n",
              "\n",
              "    .dataframe thead th {\n",
              "        text-align: right;\n",
              "    }\n",
              "</style>\n",
              "<table border=\"1\" class=\"dataframe\">\n",
              "  <thead>\n",
              "    <tr style=\"text-align: right;\">\n",
              "      <th></th>\n",
              "      <th>id</th>\n",
              "      <th>price</th>\n",
              "      <th>influence_id</th>\n",
              "      <th>license</th>\n",
              "    </tr>\n",
              "  </thead>\n",
              "  <tbody>\n",
              "    <tr>\n",
              "      <th>count</th>\n",
              "      <td>7795.000000</td>\n",
              "      <td>7795.000000</td>\n",
              "      <td>759.000000</td>\n",
              "      <td>378.000000</td>\n",
              "    </tr>\n",
              "    <tr>\n",
              "      <th>mean</th>\n",
              "      <td>12588.002309</td>\n",
              "      <td>1273.908794</td>\n",
              "      <td>4570.260870</td>\n",
              "      <td>3.989418</td>\n",
              "    </tr>\n",
              "    <tr>\n",
              "      <th>std</th>\n",
              "      <td>2250.370998</td>\n",
              "      <td>1264.786225</td>\n",
              "      <td>583.092441</td>\n",
              "      <td>3.716034</td>\n",
              "    </tr>\n",
              "    <tr>\n",
              "      <th>min</th>\n",
              "      <td>8691.000000</td>\n",
              "      <td>0.000000</td>\n",
              "      <td>209.000000</td>\n",
              "      <td>1.000000</td>\n",
              "    </tr>\n",
              "    <tr>\n",
              "      <th>25%</th>\n",
              "      <td>10639.500000</td>\n",
              "      <td>0.000000</td>\n",
              "      <td>4324.500000</td>\n",
              "      <td>1.000000</td>\n",
              "    </tr>\n",
              "    <tr>\n",
              "      <th>50%</th>\n",
              "      <td>12588.000000</td>\n",
              "      <td>1000.000000</td>\n",
              "      <td>4571.000000</td>\n",
              "      <td>1.000000</td>\n",
              "    </tr>\n",
              "    <tr>\n",
              "      <th>75%</th>\n",
              "      <td>14536.500000</td>\n",
              "      <td>2580.000000</td>\n",
              "      <td>4937.500000</td>\n",
              "      <td>6.000000</td>\n",
              "    </tr>\n",
              "    <tr>\n",
              "      <th>max</th>\n",
              "      <td>16486.000000</td>\n",
              "      <td>7590.000000</td>\n",
              "      <td>5516.000000</td>\n",
              "      <td>10.000000</td>\n",
              "    </tr>\n",
              "  </tbody>\n",
              "</table>\n",
              "</div>"
            ],
            "text/plain": [
              "                 id        price  influence_id     license\n",
              "count   7795.000000  7795.000000    759.000000  378.000000\n",
              "mean   12588.002309  1273.908794   4570.260870    3.989418\n",
              "std     2250.370998  1264.786225    583.092441    3.716034\n",
              "min     8691.000000     0.000000    209.000000    1.000000\n",
              "25%    10639.500000     0.000000   4324.500000    1.000000\n",
              "50%    12588.000000  1000.000000   4571.000000    1.000000\n",
              "75%    14536.500000  2580.000000   4937.500000    6.000000\n",
              "max    16486.000000  7590.000000   5516.000000   10.000000"
            ]
          },
          "metadata": {
            "tags": []
          },
          "execution_count": 30
        }
      ]
    },
    {
      "cell_type": "code",
      "metadata": {
        "id": "U5-RgctkxsqK",
        "colab_type": "code",
        "colab": {
          "base_uri": "https://localhost:8080/",
          "height": 221
        },
        "outputId": "57b5c358-9015-4e93-ef09-0c1ea561db44"
      },
      "source": [
        "price.info()"
      ],
      "execution_count": 31,
      "outputs": [
        {
          "output_type": "stream",
          "text": [
            "<class 'pandas.core.frame.DataFrame'>\n",
            "RangeIndex: 7795 entries, 0 to 7794\n",
            "Data columns (total 7 columns):\n",
            "id              7795 non-null int64\n",
            "price           7795 non-null float64\n",
            "date_stamp      7795 non-null object\n",
            "journal_id      7795 non-null object\n",
            "influence_id    759 non-null float64\n",
            "url             364 non-null object\n",
            "license         378 non-null float64\n",
            "dtypes: float64(3), int64(1), object(3)\n",
            "memory usage: 426.4+ KB\n"
          ],
          "name": "stdout"
        }
      ]
    },
    {
      "cell_type": "markdown",
      "metadata": {
        "id": "YA5xsPTC3aAI",
        "colab_type": "text"
      },
      "source": [
        "Checking the duplicated based on 'journal_id'  values"
      ]
    },
    {
      "cell_type": "code",
      "metadata": {
        "id": "vPIySRbP3Y-x",
        "colab_type": "code",
        "colab": {
          "base_uri": "https://localhost:8080/",
          "height": 34
        },
        "outputId": "a33e4c1f-937a-4bd8-c530-898cb3159806"
      },
      "source": [
        "\n",
        "\n",
        "len(price['journal_id'].unique())"
      ],
      "execution_count": 32,
      "outputs": [
        {
          "output_type": "execute_result",
          "data": {
            "text/plain": [
              "5720"
            ]
          },
          "metadata": {
            "tags": []
          },
          "execution_count": 32
        }
      ]
    },
    {
      "cell_type": "markdown",
      "metadata": {
        "id": "QAIS2wx-3zBN",
        "colab_type": "text"
      },
      "source": [
        "There seem to be the duplicate values in price. Dropping the duplicate values."
      ]
    },
    {
      "cell_type": "code",
      "metadata": {
        "id": "OAij07kI38QV",
        "colab_type": "code",
        "colab": {
          "base_uri": "https://localhost:8080/",
          "height": 221
        },
        "outputId": "05dd4710-b6c9-445a-ff35-fb6869a58d3d"
      },
      "source": [
        "price.drop_duplicates(subset='journal_id',keep='first',inplace=True)\n",
        "price.info()"
      ],
      "execution_count": 33,
      "outputs": [
        {
          "output_type": "stream",
          "text": [
            "<class 'pandas.core.frame.DataFrame'>\n",
            "Int64Index: 5720 entries, 0 to 7793\n",
            "Data columns (total 7 columns):\n",
            "id              5720 non-null int64\n",
            "price           5720 non-null float64\n",
            "date_stamp      5720 non-null object\n",
            "journal_id      5720 non-null object\n",
            "influence_id    290 non-null float64\n",
            "url             95 non-null object\n",
            "license         101 non-null float64\n",
            "dtypes: float64(3), int64(1), object(3)\n",
            "memory usage: 357.5+ KB\n"
          ],
          "name": "stdout"
        }
      ]
    },
    {
      "cell_type": "markdown",
      "metadata": {
        "id": "j-oHpCMqxzwD",
        "colab_type": "text"
      },
      "source": [
        "Dropping the columns url,license and influence_id as it is only present in less than 10% of the rows."
      ]
    },
    {
      "cell_type": "code",
      "metadata": {
        "id": "ktkQmlEWyitt",
        "colab_type": "code",
        "colab": {}
      },
      "source": [
        "price.drop(['influence_id', 'url','license'], axis = 1,inplace=True)"
      ],
      "execution_count": 0,
      "outputs": []
    },
    {
      "cell_type": "code",
      "metadata": {
        "id": "-RitNxCs1AGs",
        "colab_type": "code",
        "colab": {
          "base_uri": "https://localhost:8080/",
          "height": 170
        },
        "outputId": "f2d0de67-e705-402a-debe-855357185def"
      },
      "source": [
        "price.info()"
      ],
      "execution_count": 35,
      "outputs": [
        {
          "output_type": "stream",
          "text": [
            "<class 'pandas.core.frame.DataFrame'>\n",
            "Int64Index: 5720 entries, 0 to 7793\n",
            "Data columns (total 4 columns):\n",
            "id            5720 non-null int64\n",
            "price         5720 non-null float64\n",
            "date_stamp    5720 non-null object\n",
            "journal_id    5720 non-null object\n",
            "dtypes: float64(1), int64(1), object(2)\n",
            "memory usage: 223.4+ KB\n"
          ],
          "name": "stdout"
        }
      ]
    },
    {
      "cell_type": "code",
      "metadata": {
        "id": "wdQ3kPX_1PI5",
        "colab_type": "code",
        "colab": {
          "base_uri": "https://localhost:8080/",
          "height": 297
        },
        "outputId": "904f35aa-9883-42c1-86f1-fe27139c4ad6"
      },
      "source": [
        "price.describe()"
      ],
      "execution_count": 36,
      "outputs": [
        {
          "output_type": "execute_result",
          "data": {
            "text/html": [
              "<div>\n",
              "<style scoped>\n",
              "    .dataframe tbody tr th:only-of-type {\n",
              "        vertical-align: middle;\n",
              "    }\n",
              "\n",
              "    .dataframe tbody tr th {\n",
              "        vertical-align: top;\n",
              "    }\n",
              "\n",
              "    .dataframe thead th {\n",
              "        text-align: right;\n",
              "    }\n",
              "</style>\n",
              "<table border=\"1\" class=\"dataframe\">\n",
              "  <thead>\n",
              "    <tr style=\"text-align: right;\">\n",
              "      <th></th>\n",
              "      <th>id</th>\n",
              "      <th>price</th>\n",
              "    </tr>\n",
              "  </thead>\n",
              "  <tbody>\n",
              "    <tr>\n",
              "      <th>count</th>\n",
              "      <td>5720.000000</td>\n",
              "      <td>5720.000000</td>\n",
              "    </tr>\n",
              "    <tr>\n",
              "      <th>mean</th>\n",
              "      <td>12375.076224</td>\n",
              "      <td>1261.147559</td>\n",
              "    </tr>\n",
              "    <tr>\n",
              "      <th>std</th>\n",
              "      <td>2078.186712</td>\n",
              "      <td>1332.802652</td>\n",
              "    </tr>\n",
              "    <tr>\n",
              "      <th>min</th>\n",
              "      <td>8691.000000</td>\n",
              "      <td>0.000000</td>\n",
              "    </tr>\n",
              "    <tr>\n",
              "      <th>25%</th>\n",
              "      <td>10963.750000</td>\n",
              "      <td>0.000000</td>\n",
              "    </tr>\n",
              "    <tr>\n",
              "      <th>50%</th>\n",
              "      <td>12437.500000</td>\n",
              "      <td>651.000000</td>\n",
              "    </tr>\n",
              "    <tr>\n",
              "      <th>75%</th>\n",
              "      <td>14070.250000</td>\n",
              "      <td>3000.000000</td>\n",
              "    </tr>\n",
              "    <tr>\n",
              "      <th>max</th>\n",
              "      <td>16485.000000</td>\n",
              "      <td>5000.000000</td>\n",
              "    </tr>\n",
              "  </tbody>\n",
              "</table>\n",
              "</div>"
            ],
            "text/plain": [
              "                 id        price\n",
              "count   5720.000000  5720.000000\n",
              "mean   12375.076224  1261.147559\n",
              "std     2078.186712  1332.802652\n",
              "min     8691.000000     0.000000\n",
              "25%    10963.750000     0.000000\n",
              "50%    12437.500000   651.000000\n",
              "75%    14070.250000  3000.000000\n",
              "max    16485.000000  5000.000000"
            ]
          },
          "metadata": {
            "tags": []
          },
          "execution_count": 36
        }
      ]
    },
    {
      "cell_type": "code",
      "metadata": {
        "id": "EA8075XS1cDv",
        "colab_type": "code",
        "colab": {
          "base_uri": "https://localhost:8080/",
          "height": 419
        },
        "outputId": "7f9213df-9a3e-41f6-bdf3-76b75ce28b2b"
      },
      "source": [
        "price"
      ],
      "execution_count": 37,
      "outputs": [
        {
          "output_type": "execute_result",
          "data": {
            "text/html": [
              "<div>\n",
              "<style scoped>\n",
              "    .dataframe tbody tr th:only-of-type {\n",
              "        vertical-align: middle;\n",
              "    }\n",
              "\n",
              "    .dataframe tbody tr th {\n",
              "        vertical-align: top;\n",
              "    }\n",
              "\n",
              "    .dataframe thead th {\n",
              "        text-align: right;\n",
              "    }\n",
              "</style>\n",
              "<table border=\"1\" class=\"dataframe\">\n",
              "  <thead>\n",
              "    <tr style=\"text-align: right;\">\n",
              "      <th></th>\n",
              "      <th>id</th>\n",
              "      <th>price</th>\n",
              "      <th>date_stamp</th>\n",
              "      <th>journal_id</th>\n",
              "    </tr>\n",
              "  </thead>\n",
              "  <tbody>\n",
              "    <tr>\n",
              "      <th>0</th>\n",
              "      <td>8691</td>\n",
              "      <td>1400.0</td>\n",
              "      <td>2016-08-11</td>\n",
              "      <td>2051-5960</td>\n",
              "    </tr>\n",
              "    <tr>\n",
              "      <th>1</th>\n",
              "      <td>8692</td>\n",
              "      <td>2175.0</td>\n",
              "      <td>2016-08-11</td>\n",
              "      <td>1758-9193</td>\n",
              "    </tr>\n",
              "    <tr>\n",
              "      <th>2</th>\n",
              "      <td>8693</td>\n",
              "      <td>2145.0</td>\n",
              "      <td>2016-08-11</td>\n",
              "      <td>1476-0711</td>\n",
              "    </tr>\n",
              "    <tr>\n",
              "      <th>3</th>\n",
              "      <td>8694</td>\n",
              "      <td>2145.0</td>\n",
              "      <td>2016-08-11</td>\n",
              "      <td>2047-2994</td>\n",
              "    </tr>\n",
              "    <tr>\n",
              "      <th>4</th>\n",
              "      <td>8695</td>\n",
              "      <td>2145.0</td>\n",
              "      <td>2016-08-11</td>\n",
              "      <td>1744-9081</td>\n",
              "    </tr>\n",
              "    <tr>\n",
              "      <th>...</th>\n",
              "      <td>...</td>\n",
              "      <td>...</td>\n",
              "      <td>...</td>\n",
              "      <td>...</td>\n",
              "    </tr>\n",
              "    <tr>\n",
              "      <th>7789</th>\n",
              "      <td>16481</td>\n",
              "      <td>75.0</td>\n",
              "      <td>2017-09-30</td>\n",
              "      <td>2349-3755</td>\n",
              "    </tr>\n",
              "    <tr>\n",
              "      <th>7790</th>\n",
              "      <td>16482</td>\n",
              "      <td>80.0</td>\n",
              "      <td>2017-09-30</td>\n",
              "      <td>2456-1908</td>\n",
              "    </tr>\n",
              "    <tr>\n",
              "      <th>7791</th>\n",
              "      <td>16483</td>\n",
              "      <td>85.0</td>\n",
              "      <td>2017-09-30</td>\n",
              "      <td>2350-0530</td>\n",
              "    </tr>\n",
              "    <tr>\n",
              "      <th>7792</th>\n",
              "      <td>16484</td>\n",
              "      <td>800.0</td>\n",
              "      <td>2017-10-18</td>\n",
              "      <td>2251-3582</td>\n",
              "    </tr>\n",
              "    <tr>\n",
              "      <th>7793</th>\n",
              "      <td>16485</td>\n",
              "      <td>75.0</td>\n",
              "      <td>2017-10-17</td>\n",
              "      <td>2250-3021</td>\n",
              "    </tr>\n",
              "  </tbody>\n",
              "</table>\n",
              "<p>5720 rows × 4 columns</p>\n",
              "</div>"
            ],
            "text/plain": [
              "         id   price  date_stamp journal_id\n",
              "0      8691  1400.0  2016-08-11  2051-5960\n",
              "1      8692  2175.0  2016-08-11  1758-9193\n",
              "2      8693  2145.0  2016-08-11  1476-0711\n",
              "3      8694  2145.0  2016-08-11  2047-2994\n",
              "4      8695  2145.0  2016-08-11  1744-9081\n",
              "...     ...     ...         ...        ...\n",
              "7789  16481    75.0  2017-09-30  2349-3755\n",
              "7790  16482    80.0  2017-09-30  2456-1908\n",
              "7791  16483    85.0  2017-09-30  2350-0530\n",
              "7792  16484   800.0  2017-10-18  2251-3582\n",
              "7793  16485    75.0  2017-10-17  2250-3021\n",
              "\n",
              "[5720 rows x 4 columns]"
            ]
          },
          "metadata": {
            "tags": []
          },
          "execution_count": 37
        }
      ]
    },
    {
      "cell_type": "markdown",
      "metadata": {
        "id": "A23FCLko2bOu",
        "colab_type": "text"
      },
      "source": [
        "Since 25 % of the price values are 0 , it should be repplaced by mean values or some other values. As no journal should be free. Lets assign the price value to the mean value for the journals which have price 0.\n"
      ]
    },
    {
      "cell_type": "code",
      "metadata": {
        "id": "Yb5nz6AL27l8",
        "colab_type": "code",
        "colab": {}
      },
      "source": [
        "price['price'].replace(0, price['price'].mean(),inplace=True)"
      ],
      "execution_count": 0,
      "outputs": []
    },
    {
      "cell_type": "code",
      "metadata": {
        "id": "yH1-UKrH6ZQ4",
        "colab_type": "code",
        "colab": {
          "base_uri": "https://localhost:8080/",
          "height": 170
        },
        "outputId": "283c136a-f515-45ce-a7b8-2f6714728a2c"
      },
      "source": [
        "price.info()"
      ],
      "execution_count": 39,
      "outputs": [
        {
          "output_type": "stream",
          "text": [
            "<class 'pandas.core.frame.DataFrame'>\n",
            "Int64Index: 5720 entries, 0 to 7793\n",
            "Data columns (total 4 columns):\n",
            "id            5720 non-null int64\n",
            "price         5720 non-null float64\n",
            "date_stamp    5720 non-null object\n",
            "journal_id    5720 non-null object\n",
            "dtypes: float64(1), int64(1), object(2)\n",
            "memory usage: 223.4+ KB\n"
          ],
          "name": "stdout"
        }
      ]
    },
    {
      "cell_type": "code",
      "metadata": {
        "id": "O2OJeSS36gEs",
        "colab_type": "code",
        "colab": {
          "base_uri": "https://localhost:8080/",
          "height": 297
        },
        "outputId": "5d62f570-0712-49b9-dd19-5431c04e6bc7"
      },
      "source": [
        "price.describe()"
      ],
      "execution_count": 40,
      "outputs": [
        {
          "output_type": "execute_result",
          "data": {
            "text/html": [
              "<div>\n",
              "<style scoped>\n",
              "    .dataframe tbody tr th:only-of-type {\n",
              "        vertical-align: middle;\n",
              "    }\n",
              "\n",
              "    .dataframe tbody tr th {\n",
              "        vertical-align: top;\n",
              "    }\n",
              "\n",
              "    .dataframe thead th {\n",
              "        text-align: right;\n",
              "    }\n",
              "</style>\n",
              "<table border=\"1\" class=\"dataframe\">\n",
              "  <thead>\n",
              "    <tr style=\"text-align: right;\">\n",
              "      <th></th>\n",
              "      <th>id</th>\n",
              "      <th>price</th>\n",
              "    </tr>\n",
              "  </thead>\n",
              "  <tbody>\n",
              "    <tr>\n",
              "      <th>count</th>\n",
              "      <td>5720.000000</td>\n",
              "      <td>5720.000000</td>\n",
              "    </tr>\n",
              "    <tr>\n",
              "      <th>mean</th>\n",
              "      <td>12375.076224</td>\n",
              "      <td>1801.103918</td>\n",
              "    </tr>\n",
              "    <tr>\n",
              "      <th>std</th>\n",
              "      <td>2078.186712</td>\n",
              "      <td>896.479416</td>\n",
              "    </tr>\n",
              "    <tr>\n",
              "      <th>min</th>\n",
              "      <td>8691.000000</td>\n",
              "      <td>1.000000</td>\n",
              "    </tr>\n",
              "    <tr>\n",
              "      <th>25%</th>\n",
              "      <td>10963.750000</td>\n",
              "      <td>1261.147559</td>\n",
              "    </tr>\n",
              "    <tr>\n",
              "      <th>50%</th>\n",
              "      <td>12437.500000</td>\n",
              "      <td>1261.147559</td>\n",
              "    </tr>\n",
              "    <tr>\n",
              "      <th>75%</th>\n",
              "      <td>14070.250000</td>\n",
              "      <td>3000.000000</td>\n",
              "    </tr>\n",
              "    <tr>\n",
              "      <th>max</th>\n",
              "      <td>16485.000000</td>\n",
              "      <td>5000.000000</td>\n",
              "    </tr>\n",
              "  </tbody>\n",
              "</table>\n",
              "</div>"
            ],
            "text/plain": [
              "                 id        price\n",
              "count   5720.000000  5720.000000\n",
              "mean   12375.076224  1801.103918\n",
              "std     2078.186712   896.479416\n",
              "min     8691.000000     1.000000\n",
              "25%    10963.750000  1261.147559\n",
              "50%    12437.500000  1261.147559\n",
              "75%    14070.250000  3000.000000\n",
              "max    16485.000000  5000.000000"
            ]
          },
          "metadata": {
            "tags": []
          },
          "execution_count": 40
        }
      ]
    },
    {
      "cell_type": "markdown",
      "metadata": {
        "id": "W9-Rmcy_7FRl",
        "colab_type": "text"
      },
      "source": [
        "Converting the clean data into new csv files."
      ]
    },
    {
      "cell_type": "code",
      "metadata": {
        "id": "K51QsXYw7Elp",
        "colab_type": "code",
        "colab": {}
      },
      "source": [
        "journals.to_csv('cleaned_journals.csv',index=True) \n",
        "price.to_csv('cleaned_price.csv', index=True) \n",
        "estimated.to_csv('cleaned_estimated_article.csv',index=True)"
      ],
      "execution_count": 0,
      "outputs": []
    }
  ]
}