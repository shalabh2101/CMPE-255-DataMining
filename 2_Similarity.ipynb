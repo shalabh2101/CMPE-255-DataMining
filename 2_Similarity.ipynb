{
  "nbformat": 4,
  "nbformat_minor": 0,
  "metadata": {
    "colab": {
      "name": "2.Similarity_DataMining.ipynb",
      "provenance": [],
      "collapsed_sections": []
    },
    "kernelspec": {
      "name": "python3",
      "display_name": "Python 3"
    }
  },
  "cells": [
    {
      "cell_type": "markdown",
      "metadata": {
        "id": "mlNBxUQe59zS",
        "colab_type": "text"
      },
      "source": [
        "In this activity we will be looking at how the different distance measure diff.\n",
        "\n",
        "Here's a short summary of all of the distance measures:\n",
        "\n",
        "**Euclidean** Given two points in the form $(x,y)$ we can compute\n",
        "$\\sqrt{(x_1 -x_2)^2+(y_1-y_2)^2)}$\n",
        "\n",
        "---\n",
        "\n",
        "**Manhattan:** Distance between two points is the sum of the absolute differences in their Cartesian coordinates.\n",
        "![alt text](https://upload.wikimedia.org/wikipedia/commons/thumb/0/08/Manhattan_distance.svg/283px-Manhattan_distance.svg.png)\n",
        "\n",
        "---\n",
        "\n",
        "**Chebyshev:** The distance between two vectors is the greatest of their differences along any coordinate dimension.\n",
        "![](https://www.kdnuggets.com/wp-content/uploads/chebyshev-distance-chessboard.jpg)\n",
        "\n",
        "---\n",
        "\n",
        "**Canberra**: Used for comparing ranked lists and for intrusion detection in computer security.\n",
        "$d({\\bf p},{\\bf q})=\\sum^n_{i=1}{\\frac{|p_i-q_i|}{|p_i|+|q_i|}}$\n",
        "\n",
        "where ${\\bf p}$ and ${\\bf q}$ are vectors.\n",
        "\n",
        "---\n",
        "\n",
        "**Cosine**: Similarity between two non-zero vectorss of an inner product space that measures the cosine of the angle between them.\n",
        "\n",
        " * cosine 0$^\\circ$ is 1.\n",
        " * It is a judgement of orientation and not magnitude.\n",
        "\n"
      ]
    },
    {
      "cell_type": "code",
      "metadata": {
        "id": "XmssnXyHDbce",
        "colab_type": "code",
        "colab": {}
      },
      "source": [
        "import scipy.spatial.distance as dist\n",
        "import numpy as np"
      ],
      "execution_count": 0,
      "outputs": []
    },
    {
      "cell_type": "markdown",
      "metadata": {
        "id": "hc6y4BzBDKFF",
        "colab_type": "text"
      },
      "source": [
        "Begin the activity by initializing two random vectors with 10 dimensions (use np.random).\n",
        "\n",
        "\n",
        "Next using the `dist` module apply each of the distance metrics discussed above."
      ]
    },
    {
      "cell_type": "code",
      "metadata": {
        "id": "W25yyBxz5geL",
        "colab_type": "code",
        "outputId": "e2ed05d9-e163-4737-d526-bb7452dcb907",
        "colab": {
          "base_uri": "https://localhost:8080/",
          "height": 476
        }
      },
      "source": [
        "\n",
        "# Prepare 2 vectors (data points) of 10 dimensions.\n",
        "A = np.random.random(10)\n",
        "B = np.random.random(10)\n",
        "\n",
        "# Let data range randomly from 0 to 10\n",
        "\n",
        "\n",
        "# Generate a matrix of size 1000x10\n",
        "# Let data range randomly from 0 to 10\n",
        "mat_data=np.random.randint(11,size=(1000,10))\n",
        "mat_data=mat_data.transpose()\n",
        "# compute the covariance of the transpose for matrix above\n",
        "covMatrix = np.cov(mat_data,bias=True)\n",
        "invMatrix_1=np.linalg.inv(covMatrix) \n",
        "\n",
        "# finally compute the inverse\n",
        "\n",
        "print('\\n2 10-dimensional vectors')\n",
        "print('------------------------')\n",
        "print(A)\n",
        "print(B)\n",
        "\n",
        "# Perform distance measurements \n",
        "print( '\\nDistance measurements with 10-dimensional vectors')\n",
        "print( '-------------------------------------------------')\n",
        "# Replace INSERT CODE HERE \n",
        "print( '\\nEuclidean distance is',dist.euclidean(A, B))\n",
        "print( 'Manhattan distance is', dist.cityblock(A,B))\n",
        "print( 'Chebyshev distance is',  dist.chebyshev(A,B))\n",
        "print( 'Canberra distance is',   dist.canberra(A,B))\n",
        "print( 'Cosine distance is',     dist.cosine(A,B))\n",
        "print( 'Mahalanobis distance is',dist.mahalanobis(A,B,invMatrix_1))\n",
        "\n",
        "# Prepare 2 vectors of 100 dimensions\n",
        "# Again range randomly from 0 to 10\n",
        "\n",
        "C = np.random.random(100)\n",
        "D = np.random.random(100)\n",
        "\n",
        "# Generate a matrix of size 1000x100\n",
        "# Let data range randomly from 0 to 10\n",
        "mat_data_2=np.random.randint(11,size=(1000,100))\n",
        "mat_data_2=mat_data_2.transpose()\n",
        "\n",
        "\n",
        "\n",
        "# compute the covariance of the transpose for matrix above\n",
        "covMatrix_2=np.cov(mat_data_2,bias=True)\n",
        "invMatrix=np.linalg.inv(covMatrix_2) \n",
        "\n",
        "# finally compute the inverse\n",
        "\n",
        "# Perform distance measurements\n",
        "print('\\nDistance measurements with 100-dimensional vectors')\n",
        "print('--------------------------------------------------')\n",
        "print( '\\nEuclidean distance is',dist.euclidean(C, D))\n",
        "print( 'Manhattan distance is', dist.cityblock(C,D))\n",
        "print( 'Chebyshev distance is',  dist.chebyshev(C,D))\n",
        "print( 'Canberra distance is',   dist.canberra(C,D))\n",
        "print( 'Cosine distance is',     dist.cosine(C,D))\n",
        "print( 'Mahalanobis distance is',dist.mahalanobis(C,D,invMatrix)) "
      ],
      "execution_count": 0,
      "outputs": [
        {
          "output_type": "stream",
          "text": [
            "\n",
            "2 10-dimensional vectors\n",
            "------------------------\n",
            "[0.68399927 0.34040763 0.06985946 0.27940984 0.37759849 0.4214026\n",
            " 0.50201994 0.35166587 0.41985417 0.80335724]\n",
            "[0.04255429 0.09640832 0.00847667 0.95765415 0.49125387 0.2370241\n",
            " 0.43971189 0.56143166 0.24861215 0.94805924]\n",
            "\n",
            "Distance measurements with 10-dimensional vectors\n",
            "-------------------------------------------------\n",
            "\n",
            "Euclidean distance is 1.0391486767446199\n",
            "Manhattan distance is 2.511123138779099\n",
            "Chebyshev distance is 0.6782443111187172\n",
            "Canberra distance is 3.818821816877904\n",
            "Cosine distance is 0.2170125333124593\n",
            "Mahalanobis distance is 0.33402957408447875\n",
            "\n",
            "Distance measurements with 100-dimensional vectors\n",
            "--------------------------------------------------\n",
            "\n",
            "Euclidean distance is 4.483788040091878\n",
            "Manhattan distance is 37.40440515576624\n",
            "Chebyshev distance is 0.9523643980672089\n",
            "Canberra distance is 40.92380019208006\n",
            "Cosine distance is 0.2704990506021008\n",
            "Mahalanobis distance is 1.513880294952602\n"
          ],
          "name": "stdout"
        }
      ]
    },
    {
      "cell_type": "markdown",
      "metadata": {
        "id": "5TjKrt4vOsyQ",
        "colab_type": "text"
      },
      "source": [
        "Similarly, as above but this time prepare two vectors of 100 dimensions.\n",
        "\n",
        "1. Write a short statment why is cosine the smallest distance?\n",
        "\n",
        "2.  Does anything change as the number of dimension increases? If so what distance is the most affected.\n"
      ]
    },
    {
      "cell_type": "markdown",
      "metadata": {
        "id": "9oRJckkp5wSq",
        "colab_type": "text"
      },
      "source": [
        "**Write a short statment why is cosine the smallest distance?**\n",
        "\n",
        "Cosine distance does not deal with the magnitude of the given vectors. It is the cosine of the angle between the two vectors. Hence its range is always between 0 and 1 irrespective of the magnitude ."
      ]
    },
    {
      "cell_type": "markdown",
      "metadata": {
        "id": "3NO5raWC6Jgw",
        "colab_type": "text"
      },
      "source": [
        "**Does anything change as the number of dimension increases? If so what distance is the most affected.**\n",
        "\n",
        "Manhatten Distance and Canberra Distance has significantly increased as the dimension increased.\n",
        "\n",
        "There has been moderate increase in Mahalanobis distance and Euclidean distance.\n",
        "\n",
        "Cosine Distance and Chebyshev distance has been slightly increased."
      ]
    }
  ]
}